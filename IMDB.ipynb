{
 "cells": [
  {
   "cell_type": "code",
   "execution_count": 1,
   "metadata": {},
   "outputs": [
    {
     "name": "stderr",
     "output_type": "stream",
     "text": [
      "2024-01-27 22:37:15.503489: I tensorflow/core/platform/cpu_feature_guard.cc:182] This TensorFlow binary is optimized to use available CPU instructions in performance-critical operations.\n",
      "To enable the following instructions: AVX2 AVX512F AVX512_VNNI FMA, in other operations, rebuild TensorFlow with the appropriate compiler flags.\n"
     ]
    }
   ],
   "source": [
    "from keras.datasets import imdb"
   ]
  },
  {
   "cell_type": "code",
   "execution_count": 2,
   "metadata": {},
   "outputs": [
    {
     "name": "stdout",
     "output_type": "stream",
     "text": [
      "Downloading data from https://storage.googleapis.com/tensorflow/tf-keras-datasets/imdb.npz\n",
      "17464789/17464789 [==============================] - 3s 0us/step\n"
     ]
    }
   ],
   "source": [
    "(train_data, train_labels), (test_data, test_labels) = imdb.load_data(num_words=10000)"
   ]
  },
  {
   "cell_type": "code",
   "execution_count": 4,
   "metadata": {},
   "outputs": [
    {
     "data": {
      "text/plain": [
       "1"
      ]
     },
     "execution_count": 4,
     "metadata": {},
     "output_type": "execute_result"
    }
   ],
   "source": [
    "train_labels[0]"
   ]
  },
  {
   "cell_type": "code",
   "execution_count": 10,
   "metadata": {},
   "outputs": [
    {
     "data": {
      "text/plain": [
       "9999"
      ]
     },
     "execution_count": 10,
     "metadata": {},
     "output_type": "execute_result"
    }
   ],
   "source": [
    "max([max(item) for item in train_data])"
   ]
  },
  {
   "cell_type": "code",
   "execution_count": 13,
   "metadata": {},
   "outputs": [
    {
     "name": "stdout",
     "output_type": "stream",
     "text": [
      "? this film was just brilliant casting location scenery story direction everyone's really suited the part they played and you could just imagine being there robert ? is an amazing actor and now the same being director ? father came from the same scottish island as myself so i loved the fact there was a real connection with this film the witty remarks throughout the film were great it was just brilliant so much that i bought the film as soon as it was released for ? and would recommend it to everyone to watch and the fly fishing was amazing really cried at the end it was so sad and you know what they say if you cry at a film it must have been good and this definitely was also ? to the two little boy's that played the ? of norman and paul they were just brilliant children are often left out of the ? list i think because the stars that play them all grown up are such a big profile for the whole film but these children are amazing and should be praised for what they have done don't you think the whole story was so lovely because it was true and was someone's life after all that was shared with us all\n"
     ]
    }
   ],
   "source": [
    "word_index = imdb.get_word_index()\n",
    "reverse_word_index = dict(\n",
    "    [(value, key) for (key, value) in word_index.items()]\n",
    ")\n",
    "\n",
    "decoded_review = ' '.join([reverse_word_index.get(i-3, '?') for i in train_data[0]])\n",
    "print(decoded_review)"
   ]
  },
  {
   "cell_type": "code",
   "execution_count": 15,
   "metadata": {},
   "outputs": [],
   "source": [
    "import numpy as np"
   ]
  },
  {
   "cell_type": "code",
   "execution_count": 16,
   "metadata": {},
   "outputs": [],
   "source": [
    "def vectorize_sequences(sequences, dimensions=10000):\n",
    "    results = np.zeros((len(sequences), dimensions))\n",
    "    for i, sequence in enumerate(sequences):\n",
    "\n",
    "        results[i, sequence] = 1.\n",
    "    return results\n",
    "\n",
    "x_train = vectorize_sequences(train_data)\n",
    "x_test = vectorize_sequences(test_data)"
   ]
  },
  {
   "cell_type": "code",
   "execution_count": 17,
   "metadata": {},
   "outputs": [],
   "source": [
    "y_train = np.asanyarray(train_labels).astype('float32')\n",
    "y_test = np.asanyarray(test_labels).astype('float32')"
   ]
  },
  {
   "cell_type": "code",
   "execution_count": 18,
   "metadata": {},
   "outputs": [],
   "source": [
    "from keras import models\n",
    "from keras import layers"
   ]
  },
  {
   "cell_type": "code",
   "execution_count": 19,
   "metadata": {},
   "outputs": [],
   "source": [
    "model = models.Sequential()\n",
    "model.add(layers.Dense(16, activation='relu', input_shape=(10000,)))\n",
    "model.add(layers.Dense(16, activation='relu'))\n",
    "model.add(layers.Dense(1, activation='sigmoid',))"
   ]
  },
  {
   "cell_type": "code",
   "execution_count": 20,
   "metadata": {},
   "outputs": [],
   "source": [
    "model.compile(optimizer=\"rmsprop\", loss=\"binary_crossentropy\", metrics=[\"accuracy\"])"
   ]
  },
  {
   "cell_type": "code",
   "execution_count": 22,
   "metadata": {},
   "outputs": [],
   "source": [
    "x_val =x_train[:10000]\n",
    "partial_x_train = x_train[10000:]\n",
    "\n",
    "y_val =y_train[:10000]\n",
    "partial_y_train = y_train[10000:]"
   ]
  },
  {
   "cell_type": "code",
   "execution_count": 25,
   "metadata": {},
   "outputs": [
    {
     "name": "stdout",
     "output_type": "stream",
     "text": [
      "Epoch 1/20\n",
      "30/30 [==============================] - 2s 54ms/step - loss: 0.0084 - accuracy: 0.9996 - val_loss: 0.6830 - val_accuracy: 0.8574\n",
      "Epoch 2/20\n",
      "30/30 [==============================] - 0s 16ms/step - loss: 0.0077 - accuracy: 0.9995 - val_loss: 0.7733 - val_accuracy: 0.8488\n",
      "Epoch 3/20\n",
      "30/30 [==============================] - 0s 15ms/step - loss: 0.0077 - accuracy: 0.9995 - val_loss: 0.6847 - val_accuracy: 0.8623\n",
      "Epoch 4/20\n",
      "30/30 [==============================] - 0s 15ms/step - loss: 0.0081 - accuracy: 0.9989 - val_loss: 0.6591 - val_accuracy: 0.8687\n",
      "Epoch 5/20\n",
      "30/30 [==============================] - 0s 15ms/step - loss: 0.0040 - accuracy: 0.9998 - val_loss: 0.6732 - val_accuracy: 0.8687\n",
      "Epoch 6/20\n",
      "30/30 [==============================] - 0s 15ms/step - loss: 0.0120 - accuracy: 0.9971 - val_loss: 0.6908 - val_accuracy: 0.8690\n",
      "Epoch 7/20\n",
      "30/30 [==============================] - 0s 15ms/step - loss: 0.0028 - accuracy: 0.9999 - val_loss: 0.7087 - val_accuracy: 0.8686\n",
      "Epoch 8/20\n",
      "30/30 [==============================] - 0s 15ms/step - loss: 0.0078 - accuracy: 0.9978 - val_loss: 0.7265 - val_accuracy: 0.8688\n",
      "Epoch 9/20\n",
      "30/30 [==============================] - 0s 14ms/step - loss: 0.0022 - accuracy: 0.9999 - val_loss: 0.7402 - val_accuracy: 0.8677\n",
      "Epoch 10/20\n",
      "30/30 [==============================] - 1s 17ms/step - loss: 0.0020 - accuracy: 0.9999 - val_loss: 0.8173 - val_accuracy: 0.8617\n",
      "Epoch 11/20\n",
      "30/30 [==============================] - 0s 15ms/step - loss: 0.0029 - accuracy: 0.9997 - val_loss: 0.7900 - val_accuracy: 0.8662\n",
      "Epoch 12/20\n",
      "30/30 [==============================] - 0s 15ms/step - loss: 0.0060 - accuracy: 0.9982 - val_loss: 0.8014 - val_accuracy: 0.8696\n",
      "Epoch 13/20\n",
      "30/30 [==============================] - 0s 16ms/step - loss: 0.0012 - accuracy: 0.9999 - val_loss: 0.8160 - val_accuracy: 0.8668\n",
      "Epoch 14/20\n",
      "30/30 [==============================] - 0s 15ms/step - loss: 0.0011 - accuracy: 0.9999 - val_loss: 0.9287 - val_accuracy: 0.8580\n",
      "Epoch 15/20\n",
      "30/30 [==============================] - 0s 16ms/step - loss: 0.0024 - accuracy: 0.9997 - val_loss: 0.8437 - val_accuracy: 0.8664\n",
      "Epoch 16/20\n",
      "30/30 [==============================] - 0s 15ms/step - loss: 8.3437e-04 - accuracy: 1.0000 - val_loss: 0.8846 - val_accuracy: 0.8646\n",
      "Epoch 17/20\n",
      "30/30 [==============================] - 0s 15ms/step - loss: 0.0042 - accuracy: 0.9990 - val_loss: 0.8867 - val_accuracy: 0.8679\n",
      "Epoch 18/20\n",
      "30/30 [==============================] - 0s 15ms/step - loss: 6.4647e-04 - accuracy: 1.0000 - val_loss: 0.8928 - val_accuracy: 0.8681\n",
      "Epoch 19/20\n",
      "30/30 [==============================] - 0s 17ms/step - loss: 5.7906e-04 - accuracy: 1.0000 - val_loss: 0.9158 - val_accuracy: 0.8675\n",
      "Epoch 20/20\n",
      "30/30 [==============================] - 0s 15ms/step - loss: 0.0039 - accuracy: 0.9988 - val_loss: 0.9342 - val_accuracy: 0.8666\n"
     ]
    }
   ],
   "source": [
    "history = model.fit(partial_x_train, partial_y_train, epochs=20, batch_size=512, validation_data=(x_val, y_val))"
   ]
  },
  {
   "cell_type": "code",
   "execution_count": 24,
   "metadata": {},
   "outputs": [],
   "source": [
    "import matplotlib.pyplot as plt"
   ]
  },
  {
   "cell_type": "code",
   "execution_count": 27,
   "metadata": {},
   "outputs": [
    {
     "data": {
      "image/png": "[encoded data removed]",
      "text/plain": [
       "<Figure size 640x480 with 1 Axes>"
      ]
     },
     "metadata": {},
     "output_type": "display_data"
    }
   ],
   "source": [
    "loss_vals = history.history['loss']\n",
    "val_loss_vals = history.history['val_loss']\n",
    "epochs = range(1, len(loss_vals) + 1)\n",
    "plt.plot(epochs, loss_vals, 'bo')\n",
    "plt.plot(epochs, val_loss_vals, 'b')\n",
    "plt.title('Model Loss')\n",
    "plt.ylabel('loss')\n",
    "plt.xlabel('epochs')\n",
    "plt.legend(['train_loss', 'val_loss'])\n",
    "plt.show()"
   ]
  },
  {
   "cell_type": "code",
   "execution_count": 65,
   "metadata": {},
   "outputs": [],
   "source": [
    "def plot_param(param_train, param_val, title, x, y):\n",
    "    epochs = range(1, len(param_train) + 1)\n",
    "    plt.plot(epochs, param_train, 'bo')\n",
    "    plt.plot(epochs, param_val, 'b')\n",
    "    plt.title(title)\n",
    "    plt.ylabel(y)\n",
    "    plt.xlabel(x)\n",
    "    plt.legend(['train', 'val'])\n",
    "    plt.show()"
   ]
  },
  {
   "cell_type": "code",
   "execution_count": 28,
   "metadata": {},
   "outputs": [
    {
     "data": {
      "image/png": "[encoded data removed]",
      "text/plain": [
       "<Figure size 640x480 with 1 Axes>"
      ]
     },
     "metadata": {},
     "output_type": "display_data"
    }
   ],
   "source": [
    "acc = history.history['accuracy']\n",
    "val_acc = history.history['val_accuracy']\n",
    "plt.plot(epochs, acc, 'bo')\n",
    "plt.plot(epochs, val_acc, 'b')\n",
    "plt.title('Model Loss')\n",
    "plt.ylabel('accuracy')\n",
    "plt.xlabel('epochs')\n",
    "plt.legend(['train_acc', 'val_acc'])\n",
    "plt.show()"
   ]
  },
  {
   "cell_type": "code",
   "execution_count": 29,
   "metadata": {},
   "outputs": [],
   "source": [
    "from keras.datasets import reuters"
   ]
  },
  {
   "cell_type": "code",
   "execution_count": 30,
   "metadata": {},
   "outputs": [
    {
     "name": "stdout",
     "output_type": "stream",
     "text": [
      "Downloading data from https://storage.googleapis.com/tensorflow/tf-keras-datasets/reuters.npz\n",
      "2110848/2110848 [==============================] - 1s 0us/step\n"
     ]
    }
   ],
   "source": [
    "(train_data, train_labels), (test_data, test_labels) = reuters.load_data(num_words=10000)"
   ]
  },
  {
   "cell_type": "code",
   "execution_count": 57,
   "metadata": {},
   "outputs": [
    {
     "name": "stdout",
     "output_type": "stream",
     "text": [
      "? ? ? said as a result of its december acquisition of space co it expects earnings per share in 1987 of 1 15 to 1 30 dlrs per share up from 70 cts in 1986 the company said pretax net should rise to nine to 10 mln dlrs from six mln dlrs in 1986 and rental operation revenues to 19 to 22 mln dlrs from 12 5 mln dlrs it said cash flow per share this year should be 2 50 to three dlrs reuter 3\n"
     ]
    }
   ],
   "source": [
    "word_index = reuters.get_word_index()\n",
    "reverse_word_index = dict(\n",
    "    [(value, key) for (key, value) in word_index.items()]\n",
    ")\n",
    "\n",
    "decoded_review = ' '.join([reverse_word_index.get(i-3, '?') for i in train_data[0]])\n",
    "print(decoded_review)"
   ]
  },
  {
   "cell_type": "code",
   "execution_count": 48,
   "metadata": {},
   "outputs": [],
   "source": [
    "x_train = vectorize_sequences(train_data)\n",
    "x_test = vectorize_sequences(test_data)"
   ]
  },
  {
   "cell_type": "code",
   "execution_count": 49,
   "metadata": {},
   "outputs": [],
   "source": [
    "def to_one_hot(labels, dimension=46):\n",
    "    results = np.zeros((len(labels), dimension))\n",
    "    for i, label in enumerate(labels):\n",
    "        results[i, label] = 1.\n",
    "    return results"
   ]
  },
  {
   "cell_type": "code",
   "execution_count": 50,
   "metadata": {},
   "outputs": [
    {
     "data": {
      "text/plain": [
       "'\\nOr use the inbuilt function to perfrom onehot encoding\\n\\nfrom keras.utils.np_utils import to_categorical\\n\\none_hot_train_labels = to_categorical(train_labels)\\none_hot_test_labels = to_categorical(test_labels)\\n'"
      ]
     },
     "execution_count": 50,
     "metadata": {},
     "output_type": "execute_result"
    }
   ],
   "source": [
    "one_hot_train_labels = to_one_hot(train_labels)\n",
    "one_hot_test_labels = to_one_hot(test_labels)\n",
    "\n",
    "\"\"\"\n",
    "Or use the inbuilt function to perfrom onehot encoding\n",
    "\n",
    "from keras.utils.np_utils import to_categorical\n",
    "\n",
    "one_hot_train_labels = to_categorical(train_labels)\n",
    "one_hot_test_labels = to_categorical(test_labels)\n",
    "\"\"\""
   ]
  },
  {
   "cell_type": "code",
   "execution_count": 51,
   "metadata": {},
   "outputs": [],
   "source": [
    "model = models.Sequential()\n",
    "model.add(layers.Dense(64, activation='relu', input_shape=(10000,)))\n",
    "model.add(layers.Dense(64, activation='relu'))\n",
    "model.add(layers.Dense(46, activation='softmax'))"
   ]
  },
  {
   "cell_type": "code",
   "execution_count": 52,
   "metadata": {},
   "outputs": [],
   "source": [
    "model.compile(optimizer='rmsprop', loss='categorical_crossentropy', metrics=['acc'])"
   ]
  },
  {
   "cell_type": "code",
   "execution_count": 54,
   "metadata": {},
   "outputs": [
    {
     "name": "stdout",
     "output_type": "stream",
     "text": [
      "[0. 1. 1. ... 0. 0. 0.]\n"
     ]
    }
   ],
   "source": [
    "x_val = x_train[:1000]\n",
    "partial_x_train = x_train[1000:]\n",
    "\n",
    "y_val = one_hot_train_labels[:1000]\n",
    "partial_y_train = one_hot_train_labels[1000:]\n",
    "\n"
   ]
  },
  {
   "cell_type": "code",
   "execution_count": 69,
   "metadata": {},
   "outputs": [
    {
     "name": "stdout",
     "output_type": "stream",
     "text": [
      "Epoch 1/9\n",
      "16/16 [==============================] - 1s 34ms/step - loss: 0.0946 - acc: 0.9599 - val_loss: 1.0619 - val_acc: 0.8140\n",
      "Epoch 2/9\n",
      "16/16 [==============================] - 0s 20ms/step - loss: 0.0992 - acc: 0.9570 - val_loss: 1.1621 - val_acc: 0.8050\n",
      "Epoch 3/9\n",
      "16/16 [==============================] - 0s 26ms/step - loss: 0.0978 - acc: 0.9590 - val_loss: 1.1051 - val_acc: 0.8010\n",
      "Epoch 4/9\n",
      "16/16 [==============================] - 0s 21ms/step - loss: 0.0961 - acc: 0.9597 - val_loss: 1.0714 - val_acc: 0.8120\n",
      "Epoch 5/9\n",
      "16/16 [==============================] - 0s 19ms/step - loss: 0.0945 - acc: 0.9575 - val_loss: 1.1002 - val_acc: 0.8130\n",
      "Epoch 6/9\n",
      "16/16 [==============================] - 0s 19ms/step - loss: 0.0951 - acc: 0.9589 - val_loss: 1.1254 - val_acc: 0.8060\n",
      "Epoch 7/9\n",
      "16/16 [==============================] - 0s 18ms/step - loss: 0.0968 - acc: 0.9589 - val_loss: 1.1161 - val_acc: 0.8070\n",
      "Epoch 8/9\n",
      "16/16 [==============================] - 0s 19ms/step - loss: 0.0899 - acc: 0.9597 - val_loss: 1.0976 - val_acc: 0.8130\n",
      "Epoch 9/9\n",
      "16/16 [==============================] - 0s 19ms/step - loss: 0.0898 - acc: 0.9618 - val_loss: 1.1139 - val_acc: 0.8140\n"
     ]
    }
   ],
   "source": [
    "history1 = model.fit(partial_x_train, partial_y_train, epochs=9, batch_size=512, validation_data=(x_val, y_val), shuffle=True)"
   ]
  },
  {
   "cell_type": "code",
   "execution_count": 68,
   "metadata": {},
   "outputs": [
    {
     "data": {
      "image/png": "[encoded data removed]",
      "text/plain": [
       "<Figure size 640x480 with 1 Axes>"
      ]
     },
     "metadata": {},
     "output_type": "display_data"
    }
   ],
   "source": [
    "acc = history1.history['loss']\n",
    "val_acc = history1.history['val_loss']\n",
    "\n",
    "plot_param(acc, val_acc, 'T&D Loss', 'Epochs', 'Loss')"
   ]
  },
  {
   "cell_type": "code",
   "execution_count": 70,
   "metadata": {},
   "outputs": [
    {
     "name": "stdout",
     "output_type": "stream",
     "text": [
      "71/71 [==============================] - 0s 3ms/step - loss: 1.2309 - acc: 0.7934\n"
     ]
    },
    {
     "data": {
      "text/plain": [
       "[1.2308592796325684, 0.7934104800224304]"
      ]
     },
     "execution_count": 70,
     "metadata": {},
     "output_type": "execute_result"
    }
   ],
   "source": [
    "model.evaluate(x_test, one_hot_test_labels)"
   ]
  },
  {
   "cell_type": "code",
   "execution_count": 71,
   "metadata": {},
   "outputs": [
    {
     "name": "stdout",
     "output_type": "stream",
     "text": [
      "71/71 [==============================] - 0s 2ms/step\n"
     ]
    },
    {
     "data": {
      "text/plain": [
       "array([[5.07734121e-08, 6.86117048e-08, 5.73322001e-10, ...,\n",
       "        2.57217692e-09, 3.97657546e-10, 5.54466993e-11],\n",
       "       [5.03029753e-07, 1.05280359e-03, 5.30578720e-04, ...,\n",
       "        1.34244907e-10, 1.82613430e-12, 2.60012598e-06],\n",
       "       [1.10376813e-03, 9.82371092e-01, 4.15200717e-04, ...,\n",
       "        1.34887807e-06, 2.62817508e-07, 4.68520830e-06],\n",
       "       ...,\n",
       "       [2.19209369e-06, 1.99166770e-05, 2.73891010e-06, ...,\n",
       "        6.29927683e-07, 6.42886278e-07, 3.00441883e-07],\n",
       "       [1.12555084e-04, 1.84181109e-02, 1.08073023e-03, ...,\n",
       "        3.16922014e-05, 1.58753608e-07, 1.99515785e-06],\n",
       "       [9.95528444e-06, 9.67177272e-01, 1.50720100e-03, ...,\n",
       "        7.06752417e-08, 9.86730875e-09, 1.09383348e-06]], dtype=float32)"
      ]
     },
     "execution_count": 71,
     "metadata": {},
     "output_type": "execute_result"
    }
   ],
   "source": [
    "model.predict(x_test)"
   ]
  },
  {
   "cell_type": "code",
   "execution_count": null,
   "metadata": {},
   "outputs": [],
   "source": []
  }
 ],
 "metadata": {
  "kernelspec": {
   "display_name": "base",
   "language": "python",
   "name": "python3"
  },
  "language_info": {
   "codemirror_mode": {
    "name": "ipython",
    "version": 3
   },
   "file_extension": ".py",
   "mimetype": "text/x-python",
   "name": "python",
   "nbconvert_exporter": "python",
   "pygments_lexer": "ipython3",
   "version": "3.11.4"
  }
 },
 "nbformat": 4,
 "nbformat_minor": 2
}
