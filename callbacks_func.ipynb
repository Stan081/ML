{
 "cells": [
  {
   "cell_type": "markdown",
   "metadata": {},
   "source": [
    "# Callbacks"
   ]
  },
  {
   "cell_type": "markdown",
   "metadata": {},
   "source": [
    "The TensorFlow Callback api is used to automatically make adjustments during the training cycle of the model. Some of its applications include the following:\n",
    "- Training Data output: This is used to print out messages during the training cycle. Messages can be output after each epoch or batch.\n",
    "- CSV Callback: This is used to export training outputs into a CSV file. You can also append the outputs of various training cycles onto the same csv file by       setting append to true\n",
    "- Early stopping: Used to stop the training iterations when certain conditions are met. Example would be if theres an increase or decrease in the loss or accuracy respectively.\n",
    "- Learning Rate Scheduler: Thus is used to automatically adjust the learning rate of the model by specifying certain parameters like the number of epochs required for an adjustment.\n",
    "- Model Checkpointing: Used to save the weights of the model during training.\n",
    "\n",
    "mxnet.apache.org : Checkout for advanced lr scheduling"
   ]
  },
  {
   "cell_type": "code",
   "execution_count": 6,
   "metadata": {},
   "outputs": [],
   "source": [
    "from tensorflow.keras.callbacks import LearningRateScheduler, CSVLogger, EarlyStopping\n",
    "import tensorflow as tf"
   ]
  },
  {
   "cell_type": "code",
   "execution_count": 7,
   "metadata": {},
   "outputs": [],
   "source": [
    "# Learning Rate Scheduler:\n",
    "def scheduler(epoch, lr):\n",
    "    if epoch < 3:\n",
    "        return lr\n",
    "    else:\n",
    "        return lr * tf.math.exp(-0.1)\n",
    "\n",
    "scheduler_callback = LearningRateScheduler(scheduler, verbose=1)"
   ]
  },
  {
   "cell_type": "code",
   "execution_count": null,
   "metadata": {},
   "outputs": [],
   "source": [
    "checkpoint_callback = Model"
   ]
  }
 ],
 "metadata": {
  "kernelspec": {
   "display_name": "base",
   "language": "python",
   "name": "python3"
  },
  "language_info": {
   "codemirror_mode": {
    "name": "ipython",
    "version": 3
   },
   "file_extension": ".py",
   "mimetype": "text/x-python",
   "name": "python",
   "nbconvert_exporter": "python",
   "pygments_lexer": "ipython3",
   "version": "3.11.4"
  }
 },
 "nbformat": 4,
 "nbformat_minor": 2
}
